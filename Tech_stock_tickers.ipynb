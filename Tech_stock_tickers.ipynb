{
 "cells": [
  {
   "cell_type": "code",
   "execution_count": 7,
   "metadata": {},
   "outputs": [],
   "source": [
    "import pandas as pd"
   ]
  },
  {
   "cell_type": "code",
   "execution_count": 8,
   "metadata": {},
   "outputs": [],
   "source": [
    "from pandas_datareader.data import DataReader\n",
    "from datetime import date"
   ]
  },
  {
   "cell_type": "code",
   "execution_count": 10,
   "metadata": {},
   "outputs": [],
   "source": [
    "ticker = 'AAPL', 'GOOGL','FB','MSFT','PYPL','AMZN','CSCO','EBAY','ORCL','IBM','NFLX','XRX','TWTR','HPQ','CRM','INTC'\n",
    "start = date(2018,1,1)\n",
    "end = date.today()\n",
    "source = 'yahoo'"
   ]
  },
  {
   "cell_type": "code",
   "execution_count": 11,
   "metadata": {
    "scrolled": true
   },
   "outputs": [
    {
     "name": "stdout",
     "output_type": "stream",
     "text": [
      "<class 'pandas.core.frame.DataFrame'>\n",
      "DatetimeIndex: 355 entries, 2018-01-02 to 2019-05-31\n",
      "Data columns (total 96 columns):\n",
      "(High, AAPL)          355 non-null float64\n",
      "(High, AMZN)          355 non-null float64\n",
      "(High, CRM)           355 non-null float64\n",
      "(High, CSCO)          355 non-null float64\n",
      "(High, EBAY)          355 non-null float64\n",
      "(High, FB)            355 non-null float64\n",
      "(High, GOOGL)         355 non-null float64\n",
      "(High, HPQ)           355 non-null float64\n",
      "(High, IBM)           355 non-null float64\n",
      "(High, INTC)          355 non-null float64\n",
      "(High, MSFT)          355 non-null float64\n",
      "(High, NFLX)          355 non-null float64\n",
      "(High, ORCL)          355 non-null float64\n",
      "(High, PYPL)          355 non-null float64\n",
      "(High, TWTR)          355 non-null float64\n",
      "(High, XRX)           355 non-null float64\n",
      "(Low, AAPL)           355 non-null float64\n",
      "(Low, AMZN)           355 non-null float64\n",
      "(Low, CRM)            355 non-null float64\n",
      "(Low, CSCO)           355 non-null float64\n",
      "(Low, EBAY)           355 non-null float64\n",
      "(Low, FB)             355 non-null float64\n",
      "(Low, GOOGL)          355 non-null float64\n",
      "(Low, HPQ)            355 non-null float64\n",
      "(Low, IBM)            355 non-null float64\n",
      "(Low, INTC)           355 non-null float64\n",
      "(Low, MSFT)           355 non-null float64\n",
      "(Low, NFLX)           355 non-null float64\n",
      "(Low, ORCL)           355 non-null float64\n",
      "(Low, PYPL)           355 non-null float64\n",
      "(Low, TWTR)           355 non-null float64\n",
      "(Low, XRX)            355 non-null float64\n",
      "(Open, AAPL)          355 non-null float64\n",
      "(Open, AMZN)          355 non-null float64\n",
      "(Open, CRM)           355 non-null float64\n",
      "(Open, CSCO)          355 non-null float64\n",
      "(Open, EBAY)          355 non-null float64\n",
      "(Open, FB)            355 non-null float64\n",
      "(Open, GOOGL)         355 non-null float64\n",
      "(Open, HPQ)           355 non-null float64\n",
      "(Open, IBM)           355 non-null float64\n",
      "(Open, INTC)          355 non-null float64\n",
      "(Open, MSFT)          355 non-null float64\n",
      "(Open, NFLX)          355 non-null float64\n",
      "(Open, ORCL)          355 non-null float64\n",
      "(Open, PYPL)          355 non-null float64\n",
      "(Open, TWTR)          355 non-null float64\n",
      "(Open, XRX)           355 non-null float64\n",
      "(Close, AAPL)         355 non-null float64\n",
      "(Close, AMZN)         355 non-null float64\n",
      "(Close, CRM)          355 non-null float64\n",
      "(Close, CSCO)         355 non-null float64\n",
      "(Close, EBAY)         355 non-null float64\n",
      "(Close, FB)           355 non-null float64\n",
      "(Close, GOOGL)        355 non-null float64\n",
      "(Close, HPQ)          355 non-null float64\n",
      "(Close, IBM)          355 non-null float64\n",
      "(Close, INTC)         355 non-null float64\n",
      "(Close, MSFT)         355 non-null float64\n",
      "(Close, NFLX)         355 non-null float64\n",
      "(Close, ORCL)         355 non-null float64\n",
      "(Close, PYPL)         355 non-null float64\n",
      "(Close, TWTR)         355 non-null float64\n",
      "(Close, XRX)          355 non-null float64\n",
      "(Volume, AAPL)        355 non-null float64\n",
      "(Volume, AMZN)        355 non-null float64\n",
      "(Volume, CRM)         355 non-null float64\n",
      "(Volume, CSCO)        355 non-null float64\n",
      "(Volume, EBAY)        355 non-null float64\n",
      "(Volume, FB)          355 non-null float64\n",
      "(Volume, GOOGL)       355 non-null float64\n",
      "(Volume, HPQ)         355 non-null float64\n",
      "(Volume, IBM)         355 non-null float64\n",
      "(Volume, INTC)        355 non-null float64\n",
      "(Volume, MSFT)        355 non-null float64\n",
      "(Volume, NFLX)        355 non-null float64\n",
      "(Volume, ORCL)        355 non-null float64\n",
      "(Volume, PYPL)        355 non-null float64\n",
      "(Volume, TWTR)        355 non-null float64\n",
      "(Volume, XRX)         355 non-null float64\n",
      "(Adj Close, AAPL)     355 non-null float64\n",
      "(Adj Close, AMZN)     355 non-null float64\n",
      "(Adj Close, CRM)      355 non-null float64\n",
      "(Adj Close, CSCO)     355 non-null float64\n",
      "(Adj Close, EBAY)     355 non-null float64\n",
      "(Adj Close, FB)       355 non-null float64\n",
      "(Adj Close, GOOGL)    355 non-null float64\n",
      "(Adj Close, HPQ)      355 non-null float64\n",
      "(Adj Close, IBM)      355 non-null float64\n",
      "(Adj Close, INTC)     355 non-null float64\n",
      "(Adj Close, MSFT)     355 non-null float64\n",
      "(Adj Close, NFLX)     355 non-null float64\n",
      "(Adj Close, ORCL)     355 non-null float64\n",
      "(Adj Close, PYPL)     355 non-null float64\n",
      "(Adj Close, TWTR)     355 non-null float64\n",
      "(Adj Close, XRX)      355 non-null float64\n",
      "dtypes: float64(96)\n",
      "memory usage: 269.0 KB\n"
     ]
    }
   ],
   "source": [
    "stock =  pd.DataFrame(DataReader(ticker, source, start, end))\n",
    "stock.info()"
   ]
  },
  {
   "cell_type": "code",
   "execution_count": 12,
   "metadata": {},
   "outputs": [],
   "source": [
    "start = date(2018,1,1)\n",
    "end = date.today()\n",
    "source = 'yahoo'"
   ]
  },
  {
   "cell_type": "code",
   "execution_count": 13,
   "metadata": {
    "scrolled": true
   },
   "outputs": [
    {
     "name": "stdout",
     "output_type": "stream",
     "text": [
      "<class 'pandas.core.frame.DataFrame'>\n",
      "DatetimeIndex: 355 entries, 2018-01-02 to 2019-05-31\n",
      "Data columns (total 6 columns):\n",
      "High         355 non-null float64\n",
      "Low          355 non-null float64\n",
      "Open         355 non-null float64\n",
      "Close        355 non-null float64\n",
      "Volume       355 non-null float64\n",
      "Adj Close    355 non-null float64\n",
      "dtypes: float64(6)\n",
      "memory usage: 19.4 KB\n"
     ]
    }
   ],
   "source": [
    "ticker1 = 'AAPL'\n",
    "aapl =  pd.DataFrame(DataReader(ticker1, source, start, end))\n",
    "aapl.to_csv('C:\\Stuff\\JobApplication\\StockMarket\\Tech\\AAPL.csv', index = True)\n",
    "aapl.info()"
   ]
  },
  {
   "cell_type": "code",
   "execution_count": 14,
   "metadata": {},
   "outputs": [],
   "source": [
    "ticker2 = 'GOOGL'\n",
    "googl =  pd.DataFrame(DataReader(ticker2, source, start, end))\n",
    "googl.to_csv('C:\\Stuff\\JobApplication\\StockMarket\\Tech\\GOOGL.csv', index = True)"
   ]
  },
  {
   "cell_type": "code",
   "execution_count": 15,
   "metadata": {},
   "outputs": [
    {
     "name": "stdout",
     "output_type": "stream",
     "text": [
      "<class 'pandas.core.frame.DataFrame'>\n",
      "DatetimeIndex: 355 entries, 2018-01-02 to 2019-05-31\n",
      "Data columns (total 7 columns):\n",
      "High         355 non-null float64\n",
      "Low          355 non-null float64\n",
      "Open         355 non-null float64\n",
      "Close        355 non-null float64\n",
      "Volume       355 non-null int64\n",
      "Adj Close    355 non-null float64\n",
      "Symbol       355 non-null object\n",
      "dtypes: float64(5), int64(1), object(1)\n",
      "memory usage: 22.2+ KB\n"
     ]
    }
   ],
   "source": [
    "googl['Symbol'] = 'GOOGL'\n",
    "googl.info()"
   ]
  },
  {
   "cell_type": "code",
   "execution_count": 16,
   "metadata": {},
   "outputs": [
    {
     "name": "stdout",
     "output_type": "stream",
     "text": [
      "<class 'pandas.core.frame.DataFrame'>\n",
      "DatetimeIndex: 355 entries, 2018-01-02 to 2019-05-31\n",
      "Data columns (total 7 columns):\n",
      "High         355 non-null float64\n",
      "Low          355 non-null float64\n",
      "Open         355 non-null float64\n",
      "Close        355 non-null float64\n",
      "Volume       355 non-null int64\n",
      "Adj Close    355 non-null float64\n",
      "Symbol       355 non-null object\n",
      "dtypes: float64(5), int64(1), object(1)\n",
      "memory usage: 22.2+ KB\n"
     ]
    }
   ],
   "source": [
    "ticker3 = 'FB'\n",
    "fb =  pd.DataFrame(DataReader(ticker3, source, start, end))\n",
    "fb.to_csv('C:\\Stuff\\JobApplication\\StockMarket\\Tech\\FB.csv', index = True)\n",
    "fb['Symbol'] = 'FB'\n",
    "fb.info()"
   ]
  },
  {
   "cell_type": "code",
   "execution_count": 116,
   "metadata": {},
   "outputs": [],
   "source": [
    "ticker4 ='MSFT'\n",
    "msft =  pd.DataFrame(DataReader(ticker4, source, start, end))\n",
    "msft.to_csv('C:\\Stuff\\JobApplication\\StockMarket\\Tech\\MSFT.csv', index = True)\n",
    "msft['Symbol'] = 'MSFT'\n",
    "msft.info()"
   ]
  },
  {
   "cell_type": "code",
   "execution_count": 117,
   "metadata": {},
   "outputs": [],
   "source": [
    "ticker5 = 'AMZN'\n",
    "amzn =  pd.DataFrame(DataReader(ticker5, source, start, end))\n",
    "amzn.to_csv('C:\\Stuff\\JobApplication\\StockMarket\\Tech\\AMZN.csv', index = True)"
   ]
  },
  {
   "cell_type": "code",
   "execution_count": 118,
   "metadata": {},
   "outputs": [],
   "source": [
    "ticker6 = 'PYPL'\n",
    "pypl =  pd.DataFrame(DataReader(ticker6, source, start, end))\n",
    "pypl.to_csv('C:\\Stuff\\JobApplication\\StockMarket\\Tech\\PYPL.csv', index = True)"
   ]
  },
  {
   "cell_type": "code",
   "execution_count": 119,
   "metadata": {},
   "outputs": [],
   "source": [
    "ticker7 = 'TWTR'\n",
    "twtr =  pd.DataFrame(DataReader(ticker7, source, start, end))\n",
    "twtr.to_csv('C:\\Stuff\\JobApplication\\StockMarket\\Tech\\TWTR.csv', index = True)"
   ]
  },
  {
   "cell_type": "code",
   "execution_count": 120,
   "metadata": {},
   "outputs": [],
   "source": [
    "ticker8 = 'CRM'\n",
    "crm =  pd.DataFrame(DataReader(ticker8, source, start, end))\n",
    "crm.to_csv('C:\\Stuff\\JobApplication\\StockMarket\\Tech\\CRM.csv', index = True)"
   ]
  },
  {
   "cell_type": "code",
   "execution_count": 101,
   "metadata": {
    "scrolled": true
   },
   "outputs": [],
   "source": [
    "tickertop5 = ['AAPL', 'GOOGL','FB','MSFT','AMZN']\n",
    "top5 = pd.DataFrame(DataReader(tickertop5, source, start, end))"
   ]
  },
  {
   "cell_type": "code",
   "execution_count": 17,
   "metadata": {},
   "outputs": [
    {
     "ename": "NameError",
     "evalue": "name 'top5' is not defined",
     "output_type": "error",
     "traceback": [
      "\u001b[1;31m---------------------------------------------------------------------------\u001b[0m",
      "\u001b[1;31mNameError\u001b[0m                                 Traceback (most recent call last)",
      "\u001b[1;32m<ipython-input-17-ad05b9dc5adb>\u001b[0m in \u001b[0;36m<module>\u001b[1;34m()\u001b[0m\n\u001b[0;32m      1\u001b[0m \u001b[1;32mimport\u001b[0m \u001b[0mmatplotlib\u001b[0m\u001b[1;33m.\u001b[0m\u001b[0mpyplot\u001b[0m \u001b[1;32mas\u001b[0m \u001b[0mplt\u001b[0m\u001b[1;33m\u001b[0m\u001b[0m\n\u001b[1;32m----> 2\u001b[1;33m \u001b[0mtop5\u001b[0m\u001b[1;33m[\u001b[0m\u001b[1;34m'Close'\u001b[0m\u001b[1;33m]\u001b[0m\u001b[1;33m.\u001b[0m\u001b[0mplot\u001b[0m\u001b[1;33m(\u001b[0m\u001b[0mtitle\u001b[0m \u001b[1;33m=\u001b[0m \u001b[1;34m'Top 5 Tech - Price'\u001b[0m\u001b[1;33m)\u001b[0m\u001b[1;33m\u001b[0m\u001b[0m\n\u001b[0m\u001b[0;32m      3\u001b[0m \u001b[0mtop5\u001b[0m\u001b[1;33m[\u001b[0m\u001b[1;34m'Volume'\u001b[0m\u001b[1;33m]\u001b[0m\u001b[1;33m.\u001b[0m\u001b[0mplot\u001b[0m\u001b[1;33m(\u001b[0m\u001b[0mtitle\u001b[0m \u001b[1;33m=\u001b[0m \u001b[1;34m'Top 5 Tech - Volume'\u001b[0m\u001b[1;33m)\u001b[0m\u001b[1;33m\u001b[0m\u001b[0m\n",
      "\u001b[1;31mNameError\u001b[0m: name 'top5' is not defined"
     ]
    }
   ],
   "source": [
    "import matplotlib.pyplot as plt\n",
    "top5['Close'].plot(title = 'Top 5 Tech - Price')\n",
    "top5['Volume'].plot(title = 'Top 5 Tech - Volume')"
   ]
  }
 ],
 "metadata": {
  "kernelspec": {
   "display_name": "Python 3",
   "language": "python",
   "name": "python3"
  },
  "language_info": {
   "codemirror_mode": {
    "name": "ipython",
    "version": 3
   },
   "file_extension": ".py",
   "mimetype": "text/x-python",
   "name": "python",
   "nbconvert_exporter": "python",
   "pygments_lexer": "ipython3",
   "version": "3.7.0"
  }
 },
 "nbformat": 4,
 "nbformat_minor": 2
}
